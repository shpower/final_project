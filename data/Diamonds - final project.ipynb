{
 "cells": [
  {
   "cell_type": "code",
   "execution_count": null,
   "source": [
    "import pandas as pd\n",
    "import seaborn as sb"
   ],
   "outputs": [],
   "metadata": {}
  },
  {
   "cell_type": "code",
   "execution_count": null,
   "source": [
    "df = sb.load_dataset('diamonds')"
   ],
   "outputs": [],
   "metadata": {}
  },
  {
   "cell_type": "code",
   "execution_count": null,
   "source": [
    "df.head()"
   ],
   "outputs": [],
   "metadata": {}
  },
  {
   "cell_type": "code",
   "execution_count": null,
   "source": [
    "df.info()"
   ],
   "outputs": [],
   "metadata": {}
  },
  {
   "cell_type": "code",
   "execution_count": null,
   "source": [
    "df.describe()"
   ],
   "outputs": [],
   "metadata": {}
  },
  {
   "cell_type": "code",
   "execution_count": null,
   "source": [
    "sb.pairplot(df)"
   ],
   "outputs": [],
   "metadata": {}
  },
  {
   "cell_type": "code",
   "execution_count": null,
   "source": [
    "df.query(\"x==0 or y==0 or z==0 or y>20 or z>15\")"
   ],
   "outputs": [],
   "metadata": {}
  },
  {
   "cell_type": "code",
   "execution_count": null,
   "source": [
    "df.drop(df.query(\"x==0 or y==0 or z==0 or y>20 or z>6 or z<=2\").index, inplace=True)"
   ],
   "outputs": [],
   "metadata": {}
  },
  {
   "cell_type": "code",
   "execution_count": null,
   "source": [
    "sb.pairplot(df)"
   ],
   "outputs": [],
   "metadata": {}
  },
  {
   "cell_type": "code",
   "execution_count": null,
   "source": [
    "df.describe()"
   ],
   "outputs": [],
   "metadata": {}
  },
  {
   "cell_type": "code",
   "execution_count": null,
   "source": [
    "len(df.query(\"carat>3\"))"
   ],
   "outputs": [],
   "metadata": {}
  },
  {
   "cell_type": "code",
   "execution_count": null,
   "source": [
    "df1 = df.drop(df.query(\"carat>=3\").index)"
   ],
   "outputs": [],
   "metadata": {}
  },
  {
   "cell_type": "code",
   "execution_count": null,
   "source": [
    "# sb.pairplot(df1)"
   ],
   "outputs": [],
   "metadata": {}
  },
  {
   "cell_type": "code",
   "execution_count": null,
   "source": [
    "df1.describe()"
   ],
   "outputs": [],
   "metadata": {}
  },
  {
   "cell_type": "code",
   "execution_count": null,
   "source": [
    "df1.drop(df.query(\"table > 70 or table < 50 or depth > 70 or depth < 53 or z<2 or z>6\").index, inplace=True)"
   ],
   "outputs": [],
   "metadata": {}
  },
  {
   "cell_type": "code",
   "execution_count": null,
   "source": [
    "df1.head()"
   ],
   "outputs": [],
   "metadata": {}
  },
  {
   "cell_type": "code",
   "execution_count": null,
   "source": [
    "df1.info()"
   ],
   "outputs": [],
   "metadata": {}
  },
  {
   "cell_type": "code",
   "execution_count": null,
   "source": [
    "df1.describe()"
   ],
   "outputs": [],
   "metadata": {}
  },
  {
   "cell_type": "markdown",
   "source": [
    "lets replace categorical data with numbers"
   ],
   "metadata": {}
  },
  {
   "cell_type": "code",
   "execution_count": null,
   "source": [
    "df1['color'].values"
   ],
   "outputs": [],
   "metadata": {}
  },
  {
   "cell_type": "code",
   "execution_count": null,
   "source": [
    "df1.replace(['D', 'E', 'F', 'G', 'H', 'I', 'J'], [1, 2, 3, 4, 5, 6, 7], inplace=True)"
   ],
   "outputs": [],
   "metadata": {}
  },
  {
   "cell_type": "code",
   "execution_count": null,
   "source": [
    "df1['clarity'].values"
   ],
   "outputs": [],
   "metadata": {}
  },
  {
   "cell_type": "code",
   "execution_count": null,
   "source": [
    "df1.replace(['IF', 'VVS1', 'VVS2', 'VS1', 'VS2', 'SI1', 'SI2', 'I1'], [1, 2, 3, 4, 5, 6, 7, 8], inplace=True)"
   ],
   "outputs": [],
   "metadata": {
    "scrolled": true
   }
  },
  {
   "cell_type": "code",
   "execution_count": null,
   "source": [
    "df1['cut'].values"
   ],
   "outputs": [],
   "metadata": {}
  },
  {
   "cell_type": "code",
   "execution_count": null,
   "source": [
    "df1.replace(['Ideal', 'Premium', 'Very Good', 'Good', 'Fair'], [1, 2, 3, 4, 5], inplace=True)"
   ],
   "outputs": [],
   "metadata": {}
  },
  {
   "cell_type": "code",
   "execution_count": null,
   "source": [
    "df1.head()"
   ],
   "outputs": [],
   "metadata": {}
  },
  {
   "cell_type": "code",
   "execution_count": null,
   "source": [
    "df1.info()"
   ],
   "outputs": [],
   "metadata": {}
  },
  {
   "cell_type": "code",
   "execution_count": null,
   "source": [
    "df1.describe()"
   ],
   "outputs": [],
   "metadata": {}
  },
  {
   "cell_type": "code",
   "execution_count": null,
   "source": [
    "# sb.pairplot(df1)"
   ],
   "outputs": [],
   "metadata": {}
  },
  {
   "cell_type": "markdown",
   "source": [
    "filter carat and clarity"
   ],
   "metadata": {}
  },
  {
   "cell_type": "code",
   "execution_count": null,
   "source": [
    "df2 = df1.drop(df1.query(\"carat>1.7 and (clarity==1 or clarity==2)\").index)"
   ],
   "outputs": [],
   "metadata": {}
  },
  {
   "cell_type": "code",
   "execution_count": null,
   "source": [
    "df2.head()"
   ],
   "outputs": [],
   "metadata": {}
  },
  {
   "cell_type": "code",
   "execution_count": null,
   "source": [
    "df2.info()"
   ],
   "outputs": [],
   "metadata": {}
  },
  {
   "cell_type": "code",
   "execution_count": null,
   "source": [
    "df2.describe()"
   ],
   "outputs": [],
   "metadata": {}
  },
  {
   "cell_type": "code",
   "execution_count": null,
   "source": [
    "# sb.pairplot(df2)"
   ],
   "outputs": [],
   "metadata": {}
  },
  {
   "cell_type": "markdown",
   "source": [
    "lets add a column of volume, maybe it can help"
   ],
   "metadata": {}
  },
  {
   "cell_type": "code",
   "execution_count": null,
   "source": [
    "df2['volume'] = df2['x']*df2['y']*df2['z'] "
   ],
   "outputs": [],
   "metadata": {}
  },
  {
   "cell_type": "code",
   "execution_count": null,
   "source": [
    "df2.head()"
   ],
   "outputs": [],
   "metadata": {}
  },
  {
   "cell_type": "code",
   "execution_count": null,
   "source": [
    "df2.describe()"
   ],
   "outputs": [],
   "metadata": {}
  },
  {
   "cell_type": "code",
   "execution_count": null,
   "source": [
    "# sb.pairplot(df2)"
   ],
   "outputs": [],
   "metadata": {}
  },
  {
   "cell_type": "code",
   "execution_count": null,
   "source": [
    "df3 = df2.drop(df2.query(\"(carat>2.0 and y<7) or (carat>1.0 and y<6)\").index)"
   ],
   "outputs": [],
   "metadata": {}
  },
  {
   "cell_type": "code",
   "execution_count": null,
   "source": [
    "df3.head()"
   ],
   "outputs": [],
   "metadata": {}
  },
  {
   "cell_type": "code",
   "execution_count": null,
   "source": [
    "df3.describe()"
   ],
   "outputs": [],
   "metadata": {}
  },
  {
   "cell_type": "code",
   "execution_count": null,
   "source": [
    "df3.info()"
   ],
   "outputs": [],
   "metadata": {}
  },
  {
   "cell_type": "code",
   "execution_count": null,
   "source": [
    "# sb.pairplot(df3)"
   ],
   "outputs": [],
   "metadata": {}
  },
  {
   "cell_type": "markdown",
   "source": [
    "after preprocessing from above can be seen that for carat, x, y, z there is several modalities that behave the same. "
   ],
   "metadata": {}
  },
  {
   "cell_type": "code",
   "execution_count": null,
   "source": [
    "from matplotlib import pyplot as plt\n",
    "fig, axes = plt.subplots(1, 5, figsize=(16,8))\n",
    "sb.histplot(df3['carat'], ax=axes[0])\n",
    "sb.histplot(df3['x'], ax=axes[1])\n",
    "sb.histplot(df3['y'], ax=axes[2])\n",
    "sb.histplot(df3['z'], ax=axes[3])\n",
    "sb.histplot(df3['volume'], ax=axes[4])\n",
    "\n"
   ],
   "outputs": [],
   "metadata": {
    "scrolled": true
   }
  },
  {
   "cell_type": "code",
   "execution_count": null,
   "source": [
    "len(df3.query(\"carat>2\"))"
   ],
   "outputs": [],
   "metadata": {}
  },
  {
   "cell_type": "code",
   "execution_count": null,
   "source": [
    "len(df3.query(\"2>carat>1.5\"))"
   ],
   "outputs": [],
   "metadata": {}
  },
  {
   "cell_type": "code",
   "execution_count": null,
   "source": [
    "sb.histplot(df3['carat'])"
   ],
   "outputs": [],
   "metadata": {}
  },
  {
   "cell_type": "code",
   "execution_count": null,
   "source": [
    "sb.histplot(df3['volume'])"
   ],
   "outputs": [],
   "metadata": {}
  },
  {
   "cell_type": "markdown",
   "source": [
    "Can be seen from volume and carat params that there are 5 subproblems. lets divide them:"
   ],
   "metadata": {}
  },
  {
   "cell_type": "code",
   "execution_count": null,
   "source": [
    "df31 = df3.query(\"carat<0.5 and price<1500\").copy()"
   ],
   "outputs": [],
   "metadata": {}
  },
  {
   "cell_type": "code",
   "execution_count": null,
   "source": [
    "df31.describe()"
   ],
   "outputs": [],
   "metadata": {}
  },
  {
   "cell_type": "code",
   "execution_count": null,
   "source": [
    "sb.displot(df31.price)"
   ],
   "outputs": [],
   "metadata": {}
  },
  {
   "cell_type": "code",
   "execution_count": null,
   "source": [
    "df32 = df3.query(\"carat>0.5 and carat<0.6 and price < 2700\").copy()"
   ],
   "outputs": [],
   "metadata": {}
  },
  {
   "cell_type": "code",
   "execution_count": null,
   "source": [
    "df32.describe()"
   ],
   "outputs": [],
   "metadata": {}
  },
  {
   "cell_type": "code",
   "execution_count": null,
   "source": [
    "sb.displot(df32.price)"
   ],
   "outputs": [],
   "metadata": {}
  },
  {
   "cell_type": "code",
   "execution_count": null,
   "source": [
    "df33 = df3.query(\"carat>0.6 and carat<1.2 and price < 9000\").copy()"
   ],
   "outputs": [],
   "metadata": {}
  },
  {
   "cell_type": "code",
   "execution_count": null,
   "source": [
    "df33.describe()"
   ],
   "outputs": [],
   "metadata": {}
  },
  {
   "cell_type": "code",
   "execution_count": null,
   "source": [
    "sb.displot(df33.price)"
   ],
   "outputs": [],
   "metadata": {}
  },
  {
   "cell_type": "code",
   "execution_count": null,
   "source": [
    "df34 = df3.query(\"carat>1.2 and volume < 300\").copy()"
   ],
   "outputs": [],
   "metadata": {}
  },
  {
   "cell_type": "code",
   "execution_count": null,
   "source": [
    "df34.describe()"
   ],
   "outputs": [],
   "metadata": {}
  },
  {
   "cell_type": "code",
   "execution_count": null,
   "source": [
    "sb.displot(df34.price)"
   ],
   "outputs": [],
   "metadata": {}
  },
  {
   "cell_type": "code",
   "execution_count": null,
   "source": [
    "df35 = df3.query(\"volume>300 and volume < 400 and price > 8000\").copy()"
   ],
   "outputs": [],
   "metadata": {}
  },
  {
   "cell_type": "code",
   "execution_count": null,
   "source": [
    "df35.describe()"
   ],
   "outputs": [],
   "metadata": {}
  },
  {
   "cell_type": "code",
   "execution_count": null,
   "source": [
    "sb.displot(df35.price)"
   ],
   "outputs": [],
   "metadata": {}
  },
  {
   "cell_type": "markdown",
   "source": [
    "start preprocessing of the data before fit"
   ],
   "metadata": {}
  },
  {
   "cell_type": "code",
   "execution_count": null,
   "source": [
    "# sb.pairplot(df31)"
   ],
   "outputs": [],
   "metadata": {}
  },
  {
   "cell_type": "code",
   "execution_count": null,
   "source": [
    "df31.drop(df31.query(\"volume > 87 or x > 6 or z<2.2\").index, inplace=True)\n",
    "# sb.pairplot(df31)"
   ],
   "outputs": [],
   "metadata": {}
  },
  {
   "cell_type": "code",
   "execution_count": null,
   "source": [
    "# sb.pairplot(df32)"
   ],
   "outputs": [],
   "metadata": {}
  },
  {
   "cell_type": "code",
   "execution_count": null,
   "source": [
    "df32.drop(df32.query(\"y > 6 or z<2.5\").index, inplace=True)\n",
    "# sb.pairplot(df32)"
   ],
   "outputs": [],
   "metadata": {}
  },
  {
   "cell_type": "code",
   "execution_count": null,
   "source": [
    "# sb.pairplot(df33)"
   ],
   "outputs": [],
   "metadata": {}
  },
  {
   "cell_type": "code",
   "execution_count": null,
   "source": [
    "df33.drop(df33.query(\"y < 5\").index, inplace=True)\n",
    "# sb.pairplot(df33)"
   ],
   "outputs": [],
   "metadata": {
    "scrolled": true
   }
  },
  {
   "cell_type": "code",
   "execution_count": null,
   "source": [
    "# sb.pairplot(df34)"
   ],
   "outputs": [],
   "metadata": {}
  },
  {
   "cell_type": "code",
   "execution_count": null,
   "source": [
    "# sb.pairplot(df35)"
   ],
   "outputs": [],
   "metadata": {}
  },
  {
   "cell_type": "code",
   "execution_count": null,
   "source": [
    "df31.corr()"
   ],
   "outputs": [],
   "metadata": {}
  },
  {
   "cell_type": "code",
   "execution_count": null,
   "source": [
    "df32.corr()"
   ],
   "outputs": [],
   "metadata": {}
  },
  {
   "cell_type": "code",
   "execution_count": null,
   "source": [
    "df33.corr()"
   ],
   "outputs": [],
   "metadata": {}
  },
  {
   "cell_type": "code",
   "execution_count": null,
   "source": [
    "df34.corr()"
   ],
   "outputs": [],
   "metadata": {}
  },
  {
   "cell_type": "code",
   "execution_count": null,
   "source": [
    "df35.corr()"
   ],
   "outputs": [],
   "metadata": {}
  },
  {
   "cell_type": "markdown",
   "source": [
    "prelminary summary:\n",
    "    df31: looks like a good corralation - promissing\n",
    "    df32: looks like a strong corralation with clarity. thinking about oversampling to correct price distribution\n",
    "    df33: the price distribution looks like bimodel, but the corralation with other features so good might work as well\n",
    "    df34: the corralation looks promissing\n",
    "    df35: there is a weak corralation between price and other features - cannot predict prices for volume 300->400. may caused vy not enough data\n",
    "        "
   ],
   "metadata": {}
  },
  {
   "cell_type": "markdown",
   "source": [
    "create models:"
   ],
   "metadata": {}
  },
  {
   "cell_type": "code",
   "execution_count": null,
   "source": [
    "import sklearn.ensemble as se\n",
    "from sklearn.linear_model import LinearRegression\n",
    "from sklearn.model_selection import train_test_split\n",
    "from sklearn.preprocessing import StandardScaler\n",
    "from sklearn.compose import ColumnTransformer\n",
    "from sklearn.metrics import mean_absolute_error\n",
    "import pickle"
   ],
   "outputs": [],
   "metadata": {}
  },
  {
   "cell_type": "markdown",
   "source": [
    "df31:"
   ],
   "metadata": {}
  },
  {
   "cell_type": "code",
   "execution_count": null,
   "source": [
    "df31.head()"
   ],
   "outputs": [],
   "metadata": {}
  },
  {
   "cell_type": "code",
   "execution_count": null,
   "source": [
    "X = df31.drop('price', axis=1).copy()\n",
    "y = df31.price"
   ],
   "outputs": [],
   "metadata": {}
  },
  {
   "cell_type": "code",
   "execution_count": null,
   "source": [
    "X_train, X_test, y_train, y_test = train_test_split(X, y, test_size=0.33, random_state=42)"
   ],
   "outputs": [],
   "metadata": {}
  },
  {
   "cell_type": "code",
   "execution_count": null,
   "source": [
    "sclr = ColumnTransformer([\n",
    "        ('somename', StandardScaler(), ['carat', 'table', 'depth','x', 'y', 'z', 'volume'])\n",
    "    ], remainder='passthrough')\n",
    "\n",
    "X_train_s = sclr.fit_transform(X_train)\n",
    "X_test_s = sclr.fit_transform(X_test)\n",
    "X_train_s[1, :]"
   ],
   "outputs": [],
   "metadata": {}
  },
  {
   "cell_type": "code",
   "execution_count": null,
   "source": [
    "model = se.RandomForestRegressor()\n",
    "model.fit(X_train_s, y_train)\n",
    "filename = 'df31model.sav'\n",
    "pickle.dump(model, open('../models/' + filename, 'wb'))\n",
    "model.score(X_test_s, y_test)\n"
   ],
   "outputs": [],
   "metadata": {}
  },
  {
   "cell_type": "code",
   "execution_count": null,
   "source": [
    "y_pred = model.predict(X_test_s)\n",
    "mean_absolute_error(y_pred, y_test)\n",
    "# y_test.head()"
   ],
   "outputs": [],
   "metadata": {}
  },
  {
   "cell_type": "markdown",
   "source": [
    "df32:"
   ],
   "metadata": {}
  },
  {
   "cell_type": "code",
   "execution_count": null,
   "source": [
    "df32.head()"
   ],
   "outputs": [],
   "metadata": {}
  },
  {
   "cell_type": "code",
   "execution_count": null,
   "source": [
    "X = df32.drop('price', axis=1).copy()\n",
    "y = df32.price\n",
    "X_train, X_test, y_train, y_test = train_test_split(X, y, test_size=0.33, random_state=42)\n",
    "\n",
    "sclr = ColumnTransformer([\n",
    "        ('somename', StandardScaler(), ['carat', 'table', 'depth','x', 'y', 'z', 'volume'])\n",
    "    ], remainder='passthrough')\n",
    "\n",
    "X_train_s = sclr.fit_transform(X_train)\n",
    "X_test_s = sclr.fit_transform(X_test)\n",
    "X_train_s[1, :]\n",
    "\n",
    "model = se.RandomForestRegressor()\n",
    "model.fit(X_train_s, y_train)\n",
    "filename = 'df32model.sav'\n",
    "pickle.dump(model, open('../models/' + filename, 'wb'))\n",
    "model.score(X_test_s, y_test)\n"
   ],
   "outputs": [],
   "metadata": {}
  },
  {
   "cell_type": "code",
   "execution_count": null,
   "source": [
    "y_pred = model.predict(X_test_s)\n",
    "mean_absolute_error(y_pred, y_test)"
   ],
   "outputs": [],
   "metadata": {}
  },
  {
   "cell_type": "markdown",
   "source": [
    "df33:"
   ],
   "metadata": {}
  },
  {
   "cell_type": "code",
   "execution_count": null,
   "source": [
    "df33.head()"
   ],
   "outputs": [],
   "metadata": {}
  },
  {
   "cell_type": "code",
   "execution_count": null,
   "source": [
    "X = df33.drop('price', axis=1).copy()\n",
    "y = df33.price\n",
    "X_train, X_test, y_train, y_test = train_test_split(X, y, test_size=0.33, random_state=42)\n",
    "\n",
    "sclr = ColumnTransformer([\n",
    "        ('somename', StandardScaler(), ['carat', 'table', 'depth','x', 'y', 'z', 'volume'])\n",
    "    ], remainder='passthrough')\n",
    "\n",
    "X_train_s = sclr.fit_transform(X_train)\n",
    "X_test_s = sclr.fit_transform(X_test)\n",
    "X_train_s[1, :]\n",
    "\n",
    "model = se.RandomForestRegressor()\n",
    "model.fit(X_train_s, y_train)\n",
    "model.score(X_test_s, y_test)"
   ],
   "outputs": [],
   "metadata": {}
  },
  {
   "cell_type": "code",
   "execution_count": null,
   "source": [
    "y_pred = model.predict(X_test_s)\n",
    "mean_absolute_error(y_pred, y_test)"
   ],
   "outputs": [],
   "metadata": {}
  },
  {
   "cell_type": "markdown",
   "source": [
    "df34:"
   ],
   "metadata": {}
  },
  {
   "cell_type": "code",
   "execution_count": null,
   "source": [
    "df34.head()"
   ],
   "outputs": [],
   "metadata": {}
  },
  {
   "cell_type": "code",
   "execution_count": null,
   "source": [
    "X = df34.drop('price', axis=1).copy()\n",
    "y = df34.price\n",
    "X_train, X_test, y_train, y_test = train_test_split(X, y, test_size=0.33, random_state=42)\n",
    "\n",
    "sclr = ColumnTransformer([\n",
    "        ('somename', StandardScaler(), ['carat', 'table', 'depth','x', 'y', 'z', 'volume'])\n",
    "    ], remainder='passthrough')\n",
    "\n",
    "X_train_s = sclr.fit_transform(X_train)\n",
    "X_test_s = sclr.fit_transform(X_test)\n",
    "X_train_s[1, :]\n",
    "\n",
    "model = se.RandomForestRegressor()\n",
    "model.fit(X_train_s, y_train)\n",
    "model.score(X_test_s, y_test)"
   ],
   "outputs": [],
   "metadata": {}
  },
  {
   "cell_type": "code",
   "execution_count": null,
   "source": [
    "y_pred = model.predict(X_test_s)\n",
    "mean_absolute_error(y_pred, y_test)"
   ],
   "outputs": [],
   "metadata": {}
  },
  {
   "cell_type": "code",
   "execution_count": null,
   "source": [
    "sb.histplot(df34.x)"
   ],
   "outputs": [],
   "metadata": {}
  },
  {
   "cell_type": "code",
   "execution_count": null,
   "source": [
    "sb.histplot(df34.volume)"
   ],
   "outputs": [],
   "metadata": {}
  },
  {
   "cell_type": "markdown",
   "source": [
    "df33 and df34 must be seperated for sub tasks  "
   ],
   "metadata": {}
  },
  {
   "cell_type": "code",
   "execution_count": null,
   "source": [
    "# df341 = df34.drop(df34.query(\"volume < 225\").index)\n",
    "# df342 = df34.drop(df34.query(\"volume > 225\").index)\n",
    "df341 = df34.drop(df34.query(\"volume < 225\").index).copy()\n",
    "df342 = df34.drop(df34.query(\"volume >= 225\").index).copy()"
   ],
   "outputs": [],
   "metadata": {}
  },
  {
   "cell_type": "code",
   "execution_count": null,
   "source": [
    "# sb.pairplot(df341)"
   ],
   "outputs": [],
   "metadata": {}
  },
  {
   "cell_type": "code",
   "execution_count": null,
   "source": [
    "df341.drop(df341.query(\"y<7.0 or carat > 1.8 \").index, inplace=True)\n",
    "# sb.pairplot(df341)"
   ],
   "outputs": [],
   "metadata": {}
  },
  {
   "cell_type": "code",
   "execution_count": null,
   "source": [
    "# sb.pairplot(df342)"
   ],
   "outputs": [],
   "metadata": {}
  },
  {
   "cell_type": "code",
   "execution_count": null,
   "source": [
    "df342.drop(df342.query(\"volume < 180  or carat > 1.45\").index, inplace=True)\n",
    "# sb.pairplot(df342)"
   ],
   "outputs": [],
   "metadata": {}
  },
  {
   "cell_type": "code",
   "execution_count": null,
   "source": [
    "X = df342.drop(['price', 'volume'], axis=1).copy()\n",
    "y = df342.price\n",
    "X_train, X_test, y_train, y_test = train_test_split(X, y, test_size=0.33, random_state=42)\n",
    "\n",
    "sclr = ColumnTransformer([\n",
    "        ('somename', StandardScaler(), ['carat', 'table', 'depth','x', 'y', 'z'])\n",
    "    ], remainder='passthrough')\n",
    "\n",
    "X_train_s = sclr.fit_transform(X_train)\n",
    "X_test_s = sclr.fit_transform(X_test)\n",
    "X_train_s[1, :]\n",
    "\n",
    "model = se.RandomForestRegressor()\n",
    "model.fit(X_train_s, y_train)\n",
    "filename = 'df342model.sav'\n",
    "pickle.dump(model, open('../models/' + filename, 'wb'))\n",
    "model.score(X_test_s, y_test)\n"
   ],
   "outputs": [],
   "metadata": {}
  },
  {
   "cell_type": "code",
   "execution_count": null,
   "source": [
    "y_pred = model.predict(X_test_s)\n",
    "mean_absolute_error(y_pred, y_test)"
   ],
   "outputs": [],
   "metadata": {}
  },
  {
   "cell_type": "code",
   "execution_count": null,
   "source": [
    "df341.describe()"
   ],
   "outputs": [],
   "metadata": {}
  },
  {
   "cell_type": "code",
   "execution_count": null,
   "source": [
    "X = df341.drop(['price', 'volume'], axis=1).copy()\n",
    "y = df341.price\n",
    "X_train, X_test, y_train, y_test = train_test_split(X, y, test_size=0.33, random_state=42)\n",
    "\n",
    "sclr = ColumnTransformer([\n",
    "        ('somename', StandardScaler(), ['carat', 'table', 'depth','x', 'y', 'z'])\n",
    "    ], remainder='passthrough')\n",
    "\n",
    "X_train_s = sclr.fit_transform(X_train)\n",
    "X_test_s = sclr.fit_transform(X_test)\n",
    "X_train_s[1, :]\n",
    "\n",
    "model = se.RandomForestRegressor()\n",
    "model.fit(X_train_s, y_train)\n",
    "filename = 'df341model.sav'\n",
    "pickle.dump(model, open('../models/' + filename, 'wb'))\n",
    "model.score(X_test_s, y_test)\n"
   ],
   "outputs": [],
   "metadata": {}
  },
  {
   "cell_type": "code",
   "execution_count": null,
   "source": [
    "y_pred = model.predict(X_test_s)\n",
    "mean_absolute_error(y_pred, y_test)"
   ],
   "outputs": [],
   "metadata": {}
  },
  {
   "cell_type": "code",
   "execution_count": null,
   "source": [
    "df33.describe()"
   ],
   "outputs": [],
   "metadata": {}
  },
  {
   "cell_type": "code",
   "execution_count": null,
   "source": [
    "sb.histplot(df33.volume)"
   ],
   "outputs": [],
   "metadata": {}
  },
  {
   "cell_type": "code",
   "execution_count": null,
   "source": [
    "sb.histplot(df33.x)"
   ],
   "outputs": [],
   "metadata": {}
  },
  {
   "cell_type": "code",
   "execution_count": null,
   "source": [
    "df331 = df33.drop(df33.query(\"x<6\").index).copy()\n",
    "df332 = df33.drop(df33.query(\"x>=6\").index).copy()"
   ],
   "outputs": [],
   "metadata": {}
  },
  {
   "cell_type": "code",
   "execution_count": null,
   "source": [
    "sb.pairplot(df331)"
   ],
   "outputs": [],
   "metadata": {}
  },
  {
   "cell_type": "code",
   "execution_count": null,
   "source": [
    "df331.corr()"
   ],
   "outputs": [],
   "metadata": {}
  },
  {
   "cell_type": "code",
   "execution_count": null,
   "source": [
    "df331.describe()"
   ],
   "outputs": [],
   "metadata": {}
  },
  {
   "cell_type": "code",
   "execution_count": null,
   "source": [
    "df331.drop(df331.query(\"z<3.5 or x>7.0 or y<6.0\").index, inplace=True)\n",
    "# sb.pairplot(df331)"
   ],
   "outputs": [],
   "metadata": {}
  },
  {
   "cell_type": "code",
   "execution_count": null,
   "source": [
    "sb.pairplot(df332)"
   ],
   "outputs": [],
   "metadata": {}
  },
  {
   "cell_type": "code",
   "execution_count": null,
   "source": [
    "df332.corr()"
   ],
   "outputs": [],
   "metadata": {}
  },
  {
   "cell_type": "code",
   "execution_count": null,
   "source": [
    "df332.describe()"
   ],
   "outputs": [],
   "metadata": {}
  },
  {
   "cell_type": "code",
   "execution_count": null,
   "source": [
    "sb.histplot(df332.volume)"
   ],
   "outputs": [],
   "metadata": {}
  },
  {
   "cell_type": "code",
   "execution_count": null,
   "source": [
    "df332.drop(df332.query(\"z > 4.0 or x<5.4 or y<5.3 or volume < 110 or volume>120 or table>65\").index, inplace=True)\n",
    "sb.pairplot(df332)"
   ],
   "outputs": [],
   "metadata": {}
  },
  {
   "cell_type": "code",
   "execution_count": null,
   "source": [
    "sb.histplot(df332.volume)"
   ],
   "outputs": [],
   "metadata": {}
  },
  {
   "cell_type": "code",
   "execution_count": null,
   "source": [
    "X = df331.drop(['price', 'depth', 'cut'], axis=1).copy()\n",
    "y = df331.price\n",
    "X_train, X_test, y_train, y_test = train_test_split(X, y, test_size=0.33, random_state=42)\n",
    "\n",
    "sclr = ColumnTransformer([\n",
    "        ('somename', StandardScaler(), ['carat','table','color','x', 'y', 'z', 'volume'])\n",
    "    ], remainder='passthrough')\n",
    "\n",
    "X_train_s = sclr.fit_transform(X_train)\n",
    "X_test_s = sclr.fit_transform(X_test)\n",
    "X_train_s[1, :]\n",
    "\n",
    "model = se.RandomForestRegressor()\n",
    "model.fit(X_train_s, y_train)\n",
    "filename = 'df331model.sav'\n",
    "pickle.dump(model, open('../models/' + filename, 'wb'))\n",
    "model.score(X_test_s, y_test)\n"
   ],
   "outputs": [],
   "metadata": {}
  },
  {
   "cell_type": "code",
   "execution_count": null,
   "source": [
    "y_pred = model.predict(X_test_s)\n",
    "mean_absolute_error(y_pred, y_test)"
   ],
   "outputs": [],
   "metadata": {}
  },
  {
   "cell_type": "code",
   "execution_count": null,
   "source": [
    "X = df332.drop(['price'], axis=1).copy()\n",
    "y = df332.price\n",
    "X_train, X_test, y_train, y_test = train_test_split(X, y, test_size=0.33, random_state=42)\n",
    "\n",
    "sclr = ColumnTransformer([\n",
    "        ('somename', StandardScaler(), ['carat', 'table', 'depth','x', 'y', 'z', 'volume'])\n",
    "    ], remainder='passthrough')\n",
    "\n",
    "X_train_s = sclr.fit_transform(X_train)\n",
    "X_test_s = sclr.fit_transform(X_test)\n",
    "X_train_s[1, :]\n",
    "\n",
    "model = se.RandomForestRegressor()\n",
    "model.fit(X_train_s, y_train)\n",
    "filename = 'df332model.sav'\n",
    "pickle.dump(model, open('../models/' + filename, 'wb'))\n",
    "model.score(X_test_s, y_test)\n"
   ],
   "outputs": [],
   "metadata": {}
  },
  {
   "cell_type": "code",
   "execution_count": null,
   "source": [
    "y_pred = model.predict(X_test_s)\n",
    "mean_absolute_error(y_pred, y_test)"
   ],
   "outputs": [],
   "metadata": {}
  },
  {
   "cell_type": "code",
   "execution_count": null,
   "source": [],
   "outputs": [],
   "metadata": {}
  }
 ],
 "metadata": {
  "kernelspec": {
   "display_name": "Python 3",
   "language": "python",
   "name": "python3"
  },
  "language_info": {
   "codemirror_mode": {
    "name": "ipython",
    "version": 3
   },
   "file_extension": ".py",
   "mimetype": "text/x-python",
   "name": "python",
   "nbconvert_exporter": "python",
   "pygments_lexer": "ipython3",
   "version": "3.8.8"
  }
 },
 "nbformat": 4,
 "nbformat_minor": 5
}